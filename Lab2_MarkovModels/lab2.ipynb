{
 "cells": [
  {
   "cell_type": "markdown",
   "metadata": {},
   "source": [
    "# Lab 2: Markov Models\n",
    "\n",
    "------------\n",
    "\n",
    "Explain what a Markov model is"
   ]
  },
  {
   "cell_type": "code",
   "execution_count": null,
   "metadata": {},
   "outputs": [],
   "source": [
    "import markov\n",
    "from midiutil import MIDIFile\n",
    "import pandas as pd\n",
    "from music21 import midi, converter\n",
    "import numpy as np\n",
    "from collections import Counter\n",
    "from chord_dictionary import *\n",
    "from time import time"
   ]
  },
  {
   "cell_type": "markdown",
   "metadata": {},
   "source": [
    "## Text Generation\n",
    "\n",
    "First we will use a Markov model to generate text. We will train the model on a single text file that includes text from *Alice in Wonderland* and *The Wizard of Oz*. You can take a look at the text below."
   ]
  },
  {
   "cell_type": "code",
   "execution_count": null,
   "metadata": {
    "pycharm": {
     "name": "#%%\n"
    }
   },
   "outputs": [],
   "source": [
    "with open(\"assets/alice_oz.txt\", 'r') as f:\n",
    "    text = f.readline()\n",
    "\n",
    "text"
   ]
  },
  {
   "cell_type": "markdown",
   "metadata": {},
   "source": [
    "We will train our Markov model one word at a time, so our input to the Markov model is a list of words:"
   ]
  },
  {
   "cell_type": "code",
   "execution_count": null,
   "metadata": {
    "pycharm": {
     "name": "#%%\n"
    }
   },
   "outputs": [],
   "source": [
    "splitText = text.split()\n",
    "splitText"
   ]
  },
  {
   "cell_type": "code",
   "execution_count": null,
   "metadata": {
    "pycharm": {
     "name": "#%%\n"
    }
   },
   "outputs": [],
   "source": [
    "c = markov.Chain()\n",
    "c.build(splitText)"
   ]
  },
  {
   "cell_type": "markdown",
   "metadata": {},
   "source": [
    "The previous code cell trained our Markov chain on the text file. Now run the following cell to generate some text."
   ]
  },
  {
   "cell_type": "code",
   "execution_count": null,
   "metadata": {},
   "outputs": [],
   "source": [
    "np.random.seed(int(time()))\n",
    "num_words = 39\n",
    "' '.join(c.generate(nwords=num_words))"
   ]
  },
  {
   "cell_type": "markdown",
   "metadata": {},
   "source": [
    "Observe how the generated text changes when the number of words to output is adjusted."
   ]
  },
  {
   "cell_type": "markdown",
   "metadata": {},
   "source": [
    "------\n",
    "\n",
    "## Audio Generation\n",
    "\n",
    "Now let's try our hand at audio generation. We will use a dataset of chorales written by [Johann Sebastian Bach](https://en.wikipedia.org/wiki/Johann_Sebastian_Bach) which are known for their stylistic similarities.\n",
    "\n",
    "First, a bit of background.\n",
    "\n",
    "A chorale is a piece of music, written for choir, in which the melody is usually from a hymn that would be well known to the audience and performers. Chorales contain a series of chords of four voices, which are (from highest to lowest): soprano, alto, tenor, and bass. The soprano (highest) voice sings the melody, while the lower three voices create the harmony of the piece. Each chord in the piece can be identified by its **root**, which is the pitch the chord is built on (like C, F#, or A-flat), and its **quality**, which describes both the relationship of the notes in the chord to each other, and the way the chord sounds. The four types of chord quality that are common in Bach chorales are major, minor, diminished, and augmented.\n",
    "\n",
    "Listen to this Bach chorale, played on piano, to get a sense for the style. Pay particular attention to the harmonic material, as this is what we will try to replicate: [https://www.youtube.com/watch?v=L2cPibJzwbA&ab_channel=AndrewRemillard](https://www.youtube.com/watch?v=L2cPibJzwbA&ab_channel=AndrewRemillard)\n",
    "\n",
    "If you want to listen to more chorales, and see accompanyig sheet music, see: [http://sporadic.stanford.edu/Chorales/](http://sporadic.stanford.edu/Chorales/)\n",
    "\n",
    "\n",
    "### Data\n",
    "\n",
    "Next take's take a look at the data. The dataset contains 60 chorales, and each chorale has roughly 100 chords in it.\n",
    "\n",
    "The following code cell will display the first 100 rows of data. Each row corresponds to a single chord in the chorale.\n",
    "\n",
    "The first column `choral_ID` tells us which chorale this is from. For the first 100 rows, all the data is from the same chorale: `000106b_`.\n",
    "\n",
    "The next column `event_number` tells us the order of the chords in this chorale.\n",
    "\n",
    "The next twelve rows, `pitch_1` ... `pitch_12` tell us which pitches are present in the chord. `pitch_1` is C, `pitch_2` is C#, and so on.\n",
    "\n",
    "The `bass` column tells us which note is the bass note of the chord, which is the lowest note in the chord. This is important because in this style of music, the note of the chord that is in the bass can change the function of the chord in a progression. It is also common for the bassline to have a specific character and function compared to the other notes.\n",
    "\n",
    "`meter` tells us the duration of that chord in number of beats.\n",
    "\n",
    "Finally, `chord_label` tells us the root and quality of the chord. Most of the labels have the form `X_Y` where `X` is the root pitch of the chord (C, F, G#, Bb, etc.) and `Y` is the quality of the chord (`M` for major, `m` for minor, `d` for diminished, and `a` for augmented). For example, `C_M` is a C major chord, `D_m` is a D minor chord, `BbM` is a B-flat major chord."
   ]
  },
  {
   "cell_type": "code",
   "execution_count": null,
   "metadata": {},
   "outputs": [],
   "source": [
    "df = pd.read_csv('bach_choral_set_dataset.csv')\n",
    "df.head(100)"
   ]
  },
  {
   "cell_type": "markdown",
   "metadata": {},
   "source": [
    "In order to create a Markov chain that can generate Bach chorales, we need to think about how we can represent our data.\n",
    "\n",
    "### MIDI\n",
    "\n",
    "[Musical Instrument Digital Interface (MIDI)](https://en.wikipedia.org/wiki/MIDI) is a common protocol used to represent musical notes and events in digital format. MIDI is used in many processes: music production software, live performance, generating music from scores, and more. All MIDI parameters have a value from 0 to 127. A variety of musical parameters can be communicated using MIDI, the most common being pitch and velocity (volume). For example, the note C4 in MIDI is represented as the number 60. C#4 is 61, D4 is 62, and so on. This is convenient for performing computation on pitch. For example, to get the same pitch but higher one octave, simply add 12 to the MIDI pitch value. We will use MIDI to represent pitch in our Markov chain.\n",
    "\n",
    "### Two Markov models\n",
    "\n",
    "To generate a Bach chorale, we will train two different Markov models. The first will generate chords, and the second will generate the chord durations for our piece.\n",
    "\n",
    "The first model will be trained on a `(chord, bass)` tuple, where `chord` is a list of MIDI pitches and `bass` is a single MIDI pitch that represents the pitch of the bass voice for that chord. The reason we separate the bass voice from the rest of the chord is because the bass line in Bach chorales determines the inversion of the chord, which has important functional consequences. We are able to do this because our dataset contains a row that specifies the bass pitch of each chord.\n",
    "\n",
    "Our second model will determine how long each chord is held for. It is trained on the sequences of numbers gathered from the `meter` column."
   ]
  },
  {
   "cell_type": "code",
   "execution_count": null,
   "metadata": {
    "pycharm": {
     "name": "#%%\n"
    }
   },
   "outputs": [],
   "source": [
    "import markov_bach\n",
    "\n",
    "midi_note_converter = {'pitch_1':60,\n",
    "             'pitch_2':61,\n",
    "             'pitch_3':62,\n",
    "             'pitch_4':63,\n",
    "             'pitch_5':64,\n",
    "             'pitch_6':65,\n",
    "             'pitch_7':66,\n",
    "             'pitch_8':67,\n",
    "             'pitch_9':68,\n",
    "             'pitch_10':69,\n",
    "             'pitch_11':70,\n",
    "             'pitch_12':71}\n",
    "\n",
    "\n",
    "bass_converter = {'C': 48,\n",
    "                  'C#': 49,\n",
    "                  'Db': 49,\n",
    "                  'D': 50,\n",
    "                  'Eb': 51,\n",
    "                  'D#': 51,\n",
    "                  'E': 52,\n",
    "                  'F': 53,\n",
    "                  'F#': 54,\n",
    "                  'G': 55,\n",
    "                  'G#': 56,\n",
    "                  'Ab': 56,\n",
    "                  'A': 57,\n",
    "                  'Bb': 58,\n",
    "                  'A#': 58,\n",
    "                  'B': 59\n",
    "}\n",
    "\n",
    "def string2int(chord):\n",
    "    return [int(i) for i in chord.strip('[').strip(']').split(', ')]\n",
    "\n",
    "def chord2midi(chord_bass_tuple):\n",
    "    \"\"\"\n",
    "    Convert (chord name, bass note) tuple to a (chord as midi list, bass as midi note) tuple\n",
    "    \"\"\"\n",
    "    chord, bass = chord_bass_tuple\n",
    "    return chords[chord][bass], bass_converter[bass]\n",
    "\n",
    "df = pd.read_csv('assets/encoded.csv')\n",
    "note_columns = df.columns[2:14]\n",
    "\n",
    "# the 'chords' dict maps a chord (F_M) to a dictionary, where the keys are bass notes. Each bass note maps\n",
    "# to a single list of MIDI pitches that represent the notes in the chord\n",
    "chords = {}\n",
    "for i, row in df.iterrows():\n",
    "    chord = row['chord_label']\n",
    "    bass = row['bass']\n",
    "    if chord not in chords:\n",
    "        chords[chord] = {}\n",
    "    if bass not in chords[chord].keys():\n",
    "        notes = []\n",
    "        for col in note_columns:\n",
    "            if row[col] == 1:\n",
    "                note = midi_note_converter[col]\n",
    "                notes.append(note)\n",
    "        chords[chord][bass] = str(notes)"
   ]
  },
  {
   "cell_type": "markdown",
   "metadata": {},
   "source": [
    "Run the following cell to generate a Bach chorale!\n",
    "\n",
    "We set the starting chord to be C major with a C in the bass. After listening, you can change the first two lines to change the starting chord and bass note.\n",
    "\n",
    "For example, try changing the line `start_chord = 'C_M` to `start_chord = 'D_m'` and change the second line `start_bass = 'C'` to `start_bass = 'F'`. Play around with different combinations and see what you get. Is there a combination that seem most convincing? Can you find a combination that makes the worst sounding chorale?"
   ]
  },
  {
   "cell_type": "code",
   "execution_count": null,
   "metadata": {
    "pycharm": {
     "name": "#%%\n"
    }
   },
   "outputs": [],
   "source": [
    "start_chord = 'D_M'\n",
    "start_bass = 'D'\n",
    "\n",
    "chord_model = markov_bach.Chain(NONWORD=(start_chord, start_bass), NPREF=4)\n",
    "meter_model = markov_bach.Chain(NONWORD=3, NPREF=2)\n",
    "\n",
    "# train on each chorales\n",
    "for chorale in df['choral_ID'].unique():\n",
    "    d = df[df['choral_ID'] == chorale]  # select only the rows from a single chorale\n",
    "    chord_stream = [(i['chord_label'], i['bass']) for k, i in d.iterrows()]  # sequential list of all chord/bass tuples\n",
    "    chord_model.build(chord_stream)\n",
    "    meter_stream = np.array(d['meter'], dtype='str')\n",
    "    meter_model.build(meter_stream)\n",
    "\n",
    "# generate chords and durations\n",
    "generated_chords = chord_model.generate(first=(start_chord, start_bass))\n",
    "generated_meter = meter_model.generate(first=3)\n",
    "\n",
    "# convert chord names to midi note lists\n",
    "# generated_chords[i] is a tuple: (chord as midi list, midi bass note)\n",
    "generated_chords_midi = [chord2midi(x) for x in generated_chords]\n",
    "\n",
    "\n",
    "# create MIDI\n",
    "track = 0\n",
    "channel = 0\n",
    "time = 0\n",
    "duration = 1\n",
    "tempo = 60\n",
    "volume = 100\n",
    "\n",
    "MIDI = MIDIFile(2)\n",
    "# MIDI.addTempo(track, time, tempo)\n",
    "\n",
    "t = 0\n",
    "\n",
    "start_c = string2int(chords[start_chord][start_bass])\n",
    "start_b = bass_converter[start_bass]\n",
    "duration = 4\n",
    "for c in start_c:\n",
    "    MIDI.addNote(track, channel, c, t, duration, volume)\n",
    "MIDI.addNote(track, channel, start_b, t, duration, volume)\n",
    "t += duration\n",
    "\n",
    "for i in range(len(generated_chords_midi)):\n",
    "    chord, bass = generated_chords_midi[i]\n",
    "    chord = string2int(chord)\n",
    "    duration = int(generated_meter[i])\n",
    "\n",
    "    for note in chord:\n",
    "        MIDI.addNote(track, channel, note, t, duration, volume)\n",
    "\n",
    "    MIDI.addNote(track, channel, bass, t, duration, volume - 10)\n",
    "\n",
    "    t += duration\n",
    "\n",
    "\n",
    "with open(\"generated_all_midi.mid\", 'wb') as output_file:\n",
    "    MIDI.writeFile(output_file)\n",
    "\n",
    "mf = midi.MidiFile()\n",
    "mf.open('generated_all_midi.mid')\n",
    "mf.read()\n",
    "mf.close()\n",
    "s = midi.translate.midiFileToStream(mf)\n",
    "\n",
    "print((start_c, start_b), generated_chords)\n",
    "score = converter.parse('generated_all_midi.mid')\n",
    "score.show()\n",
    "s.show('midi')"
   ]
  },
  {
   "cell_type": "markdown",
   "metadata": {},
   "source": [
    "What do you think of our Markov generated Bach chorales? Are they convincing?\n",
    "\n",
    "It certanly is making music, but is it music in the style of Bach? Some of the qualities we expect are there, like the common V-I progression that often appears in the generated sequences. However, it isn't good enough to create a convincing recreation of Bach.\n",
    "\n",
    "What is missing? First, the harmonic progressions we expect to hear. Rhythms beyond quarter notes. Form. Repeated material.\n",
    "\n",
    "Markov chains have some promise when it comes to generating music and sound with data, but now we will take a look at a process that is much more convincing: neural networks. Check out the Bach Google doodle, which uses multiple neural networks to create pieces in Bach's style: [https://www.google.com/doodles/celebrating-johann-sebastian-bach](https://www.google.com/doodles/celebrating-johann-sebastian-bach)"
   ]
  },
  {
   "cell_type": "code",
   "execution_count": 1,
   "metadata": {},
   "outputs": [
    {
     "name": "stdout",
     "output_type": "stream",
     "text": [
      "([62, 66, 69], 50) [('E_m', 'G'), ('E_m', 'G'), ('A_M', 'A'), ('A_M', 'A'), ('A_M', 'A'), ('B_m', 'B'), ('B_m', 'B'), ('A_M', 'C#'), ('A_M', 'D'), ('E_M', 'E'), ('E_M', 'D'), ('A_M', 'C#'), ('A_M', 'A'), ('A_M', 'A'), ('E_M', 'E'), ('E_M', 'E'), ('F#m', 'F#'), ('F#m', 'E'), ('B_M', 'D#'), ('B_M', 'D#')]\n"
     ]
    },
    {
     "data": {
      "image/png": "[encoded data removed]",
      "text/plain": [
       "<IPython.core.display.Image object>"
      ]
     },
     "metadata": {
      "image/png": {
       "height": 208,
       "width": 708
      }
     },
     "output_type": "display_data"
    },
    {
     "data": {
      "text/html": [
       "\n",
       "                <div id='midiPlayerDiv3143'></div>\n",
       "                <link rel=\"stylesheet\" href=\"//cuthbertLab.github.io/music21j/css/m21.css\"\n",
       "                    type=\"text/css\" />\n",
       "                <script>\n",
       "                require.config({\n",
       "                    paths: {'music21': '//cuthbertLab.github.io/music21j/src/music21'}\n",
       "                });\n",
       "                require(['music21'], function() {\n",
       "                               mp = new music21.miditools.MidiPlayer();\n",
       "                               mp.addPlayer('#midiPlayerDiv3143');\n",
       "                               mp.base64Load('data:audio/midi;base64,TVRoZAAAAAYAAQACBABNVHJrAAAAFAD/UQMHoSAA/1gEBAIYCIgA/y8ATVRyawAAAt8A/wMAAOAAQIgAkD5kAJBCZACQRWQAkDJkoACAPgAAgEIAAIBFAACAMgAAkD9kAJBCZACQQ2QAkEdkAJA3WpgAgD8AAIBCAACAQwAAgEcAAIA3AACQP2QAkEJkAJBDZACQR2QAkDdaqACAPwAAgEIAAIBDAACARwAAgDcAoACQPWQAkEBkAJBFZACQOVqYAIA9AACAQAAAgEUAAIA5AACQPWQAkEBkAJBFZACQOVqYAIA9AACAQAAAgEUAAIA5AJAAkD1kAJBAZACQRWQAkDlakACAPQAAgEAAAIBFAACAOQAAkD5kAJBCZACQR2QAkDtaqACAPgAAgEIAAIBHAACAOwCIAJA+ZACQQmQAkEdkAJA7WpAAgD4AAIBCAACARwAAgDsAAJA9ZACQQGQAkEVkAJAxWpgAgD0AAIBAAACARQAAgDEAkACQPWQAkD5kAJBCZACQRWQAkDJamACAPQAAgD4AAIBCAACARQAAgDIAiACQQGQAkERkAJA0WpAAgEAAAIBEAACANAAAkD5kAJBAZACQRGQAkEdkAJAyWqAAgD4AAIBAAACARAAAgEcAAIAyAJgAkD1kAJBAZACQRWQAkDFakACAPQAAgEAAAIBFAACAMQCIAJA9ZACQQGQAkEVkAJA5WpgAgD0AAIBAAACARQAAgDkAAJA9ZACQQGQAkEVkAJA5WqgAgD0AAIBAAACARQAAgDkAiACQQGQAkERkAJA0WpAAgEAAAIBEAACANAAAkEBkAJBEZACQNFqYAIBAAACARAAAgDQAkACQPWQAkEJkAJBFZACQNlqgAIA9AACAQgAAgEUAAIA2AJAAkD1kAJBAZACQRGQAkEVkAJA0WpgAgD0AAIBAAACARAAAgEUAAIA0AIgAkD9kAJBCZACQR2QAkDNaqACAPwAAgEIAAIBHAACAMwCQAJA/ZACQQmQAkEdkAJAzWpAAgD8AAIBCAACARwAAgDMAiAD/LwA=');\n",
       "                        });\n",
       "                </script>"
      ],
      "text/plain": [
       "<IPython.core.display.HTML object>"
      ]
     },
     "metadata": {},
     "output_type": "display_data"
    }
   ],
   "source": [
    "from midiutil import MIDIFile\n",
    "import pandas as pd\n",
    "from music21 import midi, converter\n",
    "\n",
    "import collections\n",
    "import numpy as np\n",
    "\n",
    "import markov_bach\n",
    "\n",
    "midi_note_converter = {'pitch_1':60,\n",
    "             'pitch_2':61,\n",
    "             'pitch_3':62,\n",
    "             'pitch_4':63,\n",
    "             'pitch_5':64,\n",
    "             'pitch_6':65,\n",
    "             'pitch_7':66,\n",
    "             'pitch_8':67,\n",
    "             'pitch_9':68,\n",
    "             'pitch_10':69,\n",
    "             'pitch_11':70,\n",
    "             'pitch_12':71}\n",
    "\n",
    "\n",
    "def string2int(chord):\n",
    "    return [int(i) for i in chord.strip('[').strip(']').split(', ')]\n",
    "\n",
    "\n",
    "df = pd.read_csv('assets/encoded.csv')\n",
    "note_columns = df.columns[2:14]\n",
    "\n",
    "# the 'chords' dict maps a chord (F_M) to a dictionary, where the keys are bass notes. Each bass note maps\n",
    "# to a single list of MIDI pitches that represent the notes in the chord\n",
    "chords = {}\n",
    "for i, row in df.iterrows():\n",
    "    chord = row['chord_label']\n",
    "    bass = row['bass']\n",
    "    if chord not in chords:\n",
    "        chords[chord] = {}\n",
    "    if bass not in chords[chord].keys():\n",
    "        notes = []\n",
    "        for col in note_columns:\n",
    "            if row[col] == 1:\n",
    "                note = midi_note_converter[col]\n",
    "                notes.append(note)\n",
    "        chords[chord][bass] = str(notes)\n",
    "\n",
    "\n",
    "bass_converter = {'C': 48,\n",
    "                  'C#': 49,\n",
    "                  'Db': 49,\n",
    "                  'D': 50,\n",
    "                  'Eb': 51,\n",
    "                  'D#': 51,\n",
    "                  'E': 52,\n",
    "                  'F': 53,\n",
    "                  'F#': 54,\n",
    "                  'G': 55,\n",
    "                  'G#': 56,\n",
    "                  'Ab': 56,\n",
    "                  'A': 57,\n",
    "                  'Bb': 58,\n",
    "                  'A#': 58,\n",
    "                  'B': 59\n",
    "}\n",
    "\n",
    "start_chord = 'D_M'\n",
    "start_bass = 'D'\n",
    "\n",
    "chord_model = markov_bach.Chain(NONWORD=(start_chord, start_bass), NPREF=4)\n",
    "meter_model = markov_bach.Chain(NONWORD=3, NPREF=2)\n",
    "#bass = Chain(NONWORD='F', NPREF=4)\n",
    "\n",
    "# create markov chains from all chorales\n",
    "for chorale in df['choral_ID'].unique():\n",
    "    d = df[df['choral_ID'] == chorale]  # select only the rows from a single chorale\n",
    "    chord_stream = [(i['chord_label'], i['bass']) for k, i in d.iterrows()]  # sequential list of all chord/bass tuples\n",
    "    chord_model.build(chord_stream)\n",
    "    meter_stream = np.array(d['meter'], dtype='str')\n",
    "    meter_model.build(meter_stream)\n",
    "\n",
    "# generate chords and durations\n",
    "generated_chords = chord_model.generate(first=(start_chord, start_bass))\n",
    "generated_meter = meter_model.generate(first=3)\n",
    "\n",
    "def chord2midi(chord_bass_tuple):\n",
    "    \"\"\"\n",
    "    Convert (chord name, bass note) tuple to a (chord as midi list, bass as midi note) tuple\n",
    "    \"\"\"\n",
    "    chord, bass = chord_bass_tuple\n",
    "    return chords[chord][bass], bass_converter[bass]\n",
    "\n",
    "# convert chord names to midi note lists\n",
    "# generated_chords[i] is a tuple: (chord as midi list, midi bass note)\n",
    "generated_chords_midi = [chord2midi(x) for x in generated_chords]\n",
    "\n",
    "# create MIDI\n",
    "track = 0\n",
    "channel = 0\n",
    "time = 0\n",
    "duration = 1\n",
    "tempo = 60\n",
    "volume = 100\n",
    "\n",
    "MIDI = MIDIFile(2)\n",
    "# MIDI.addTempo(track, time, tempo)\n",
    "\n",
    "t = 0\n",
    "\n",
    "start_c = string2int(chords[start_chord][start_bass])\n",
    "start_b = bass_converter[start_bass]\n",
    "duration = 4\n",
    "for c in start_c:\n",
    "    MIDI.addNote(track, channel, c, t, duration, volume)\n",
    "MIDI.addNote(track, channel, start_b, t, duration, volume)\n",
    "t += duration\n",
    "\n",
    "for i in range(len(generated_chords_midi)):\n",
    "    chord, bass = generated_chords_midi[i]\n",
    "    chord = string2int(chord)\n",
    "    duration = int(generated_meter[i])\n",
    "\n",
    "    for note in chord:\n",
    "        MIDI.addNote(track, channel, note, t, duration, volume)\n",
    "\n",
    "    MIDI.addNote(track, channel, bass, t, duration, volume - 10)\n",
    "\n",
    "    t += duration\n",
    "\n",
    "\n",
    "with open(\"generated_all_midi.mid\", 'wb') as output_file:\n",
    "    MIDI.writeFile(output_file)\n",
    "\n",
    "mf = midi.MidiFile()\n",
    "mf.open('generated_all_midi.mid')\n",
    "mf.read()\n",
    "mf.close()\n",
    "s = midi.translate.midiFileToStream(mf)\n",
    "\n",
    "print((start_c, start_b), generated_chords)\n",
    "score = converter.parse('generated_all_midi.mid')\n",
    "score.show()\n",
    "s.show('midi')"
   ]
  },
  {
   "cell_type": "code",
   "execution_count": null,
   "metadata": {},
   "outputs": [],
   "source": []
  }
 ],
 "metadata": {
  "kernelspec": {
   "display_name": "Python 3 (ipykernel)",
   "language": "python",
   "name": "python3"
  },
  "language_info": {
   "codemirror_mode": {
    "name": "ipython",
    "version": 3
   },
   "file_extension": ".py",
   "mimetype": "text/x-python",
   "name": "python",
   "nbconvert_exporter": "python",
   "pygments_lexer": "ipython3",
   "version": "3.9.7"
  }
 },
 "nbformat": 4,
 "nbformat_minor": 4
}