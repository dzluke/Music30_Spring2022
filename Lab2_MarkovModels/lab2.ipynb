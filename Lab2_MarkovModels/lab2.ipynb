{
 "cells": [
  {
   "cell_type": "markdown",
   "metadata": {},
   "source": [
    "# Notebook 2: Markov Models"
   ]
  },
  {
   "cell_type": "markdown",
   "metadata": {},
   "source": [
    "#### Dependencies\n"
   ]
  },
  {
   "cell_type": "code",
   "execution_count": 1,
   "metadata": {},
   "outputs": [],
   "source": [
    "import markov\n",
    "from midiutil import MIDIFile\n",
    "import pandas as pd\n",
    "from music21 import midi\n",
    "import numpy as np\n",
    "from collections import Counter\n",
    "from chord_dictionary import *"
   ]
  },
  {
   "cell_type": "markdown",
   "metadata": {},
   "source": [
    "### Text Generation\n",
    "\n",
    "Below, we'll build a markov chain using `alice_oz.txt`. "
   ]
  },
  {
   "cell_type": "code",
   "execution_count": 2,
   "metadata": {},
   "outputs": [],
   "source": [
    "with open(\"assets/alice_oz.txt\", 'r') as f:\n",
    "    text = f.readline()\n",
    "    \n",
    "splitText = text.split()"
   ]
  },
  {
   "cell_type": "code",
   "execution_count": 3,
   "metadata": {},
   "outputs": [],
   "source": [
    "c = markov.Chain()\n",
    "c.build(splitText)"
   ]
  },
  {
   "cell_type": "markdown",
   "metadata": {},
   "source": [
    "Observe how the generated text changes when the number of words to output is adjusted."
   ]
  },
  {
   "cell_type": "code",
   "execution_count": 15,
   "metadata": {},
   "outputs": [
    {
     "data": {
      "text/plain": [
       "'Alice was beginning to get very tired of sitting by her sister'"
      ]
     },
     "execution_count": 15,
     "metadata": {},
     "output_type": "execute_result"
    }
   ],
   "source": [
    "num_words = 12\n",
    "' '.join(c.generate(nwords=num_words))"
   ]
  },
  {
   "cell_type": "markdown",
   "metadata": {},
   "source": [
    "------\n",
    "\n",
    "### Audio Generation\n",
    "\n",
    "We can also create a markov chain that learns from the harmonies of Bach chorales and generate audio using the chain. Below is a preview of the dataset."
   ]
  },
  {
   "cell_type": "code",
   "execution_count": 16,
   "metadata": {},
   "outputs": [
    {
     "data": {
      "text/html": [
       "<div>\n",
       "<style scoped>\n",
       "    .dataframe tbody tr th:only-of-type {\n",
       "        vertical-align: middle;\n",
       "    }\n",
       "\n",
       "    .dataframe tbody tr th {\n",
       "        vertical-align: top;\n",
       "    }\n",
       "\n",
       "    .dataframe thead th {\n",
       "        text-align: right;\n",
       "    }\n",
       "</style>\n",
       "<table border=\"1\" class=\"dataframe\">\n",
       "  <thead>\n",
       "    <tr style=\"text-align: right;\">\n",
       "      <th></th>\n",
       "      <th>choral_ID</th>\n",
       "      <th>event_number</th>\n",
       "      <th>pitch_1</th>\n",
       "      <th>pitch_2</th>\n",
       "      <th>pitch_3</th>\n",
       "      <th>pitch_4</th>\n",
       "      <th>pitch_5</th>\n",
       "      <th>pitch_6</th>\n",
       "      <th>pitch_7</th>\n",
       "      <th>pitch_8</th>\n",
       "      <th>pitch_9</th>\n",
       "      <th>pitch_10</th>\n",
       "      <th>pitch_11</th>\n",
       "      <th>pitch_12</th>\n",
       "      <th>bass</th>\n",
       "      <th>meter</th>\n",
       "      <th>chord_label</th>\n",
       "    </tr>\n",
       "  </thead>\n",
       "  <tbody>\n",
       "    <tr>\n",
       "      <th>0</th>\n",
       "      <td>000106b_</td>\n",
       "      <td>1</td>\n",
       "      <td>YES</td>\n",
       "      <td>NO</td>\n",
       "      <td>NO</td>\n",
       "      <td>NO</td>\n",
       "      <td>NO</td>\n",
       "      <td>YES</td>\n",
       "      <td>NO</td>\n",
       "      <td>NO</td>\n",
       "      <td>NO</td>\n",
       "      <td>YES</td>\n",
       "      <td>NO</td>\n",
       "      <td>NO</td>\n",
       "      <td>F</td>\n",
       "      <td>3</td>\n",
       "      <td>F_M</td>\n",
       "    </tr>\n",
       "    <tr>\n",
       "      <th>1</th>\n",
       "      <td>000106b_</td>\n",
       "      <td>2</td>\n",
       "      <td>YES</td>\n",
       "      <td>NO</td>\n",
       "      <td>NO</td>\n",
       "      <td>NO</td>\n",
       "      <td>YES</td>\n",
       "      <td>NO</td>\n",
       "      <td>NO</td>\n",
       "      <td>YES</td>\n",
       "      <td>NO</td>\n",
       "      <td>NO</td>\n",
       "      <td>NO</td>\n",
       "      <td>NO</td>\n",
       "      <td>E</td>\n",
       "      <td>5</td>\n",
       "      <td>C_M</td>\n",
       "    </tr>\n",
       "    <tr>\n",
       "      <th>2</th>\n",
       "      <td>000106b_</td>\n",
       "      <td>3</td>\n",
       "      <td>YES</td>\n",
       "      <td>NO</td>\n",
       "      <td>NO</td>\n",
       "      <td>NO</td>\n",
       "      <td>YES</td>\n",
       "      <td>NO</td>\n",
       "      <td>NO</td>\n",
       "      <td>YES</td>\n",
       "      <td>NO</td>\n",
       "      <td>NO</td>\n",
       "      <td>NO</td>\n",
       "      <td>NO</td>\n",
       "      <td>E</td>\n",
       "      <td>2</td>\n",
       "      <td>C_M</td>\n",
       "    </tr>\n",
       "    <tr>\n",
       "      <th>3</th>\n",
       "      <td>000106b_</td>\n",
       "      <td>4</td>\n",
       "      <td>YES</td>\n",
       "      <td>NO</td>\n",
       "      <td>NO</td>\n",
       "      <td>NO</td>\n",
       "      <td>NO</td>\n",
       "      <td>YES</td>\n",
       "      <td>NO</td>\n",
       "      <td>NO</td>\n",
       "      <td>NO</td>\n",
       "      <td>YES</td>\n",
       "      <td>NO</td>\n",
       "      <td>NO</td>\n",
       "      <td>F</td>\n",
       "      <td>3</td>\n",
       "      <td>F_M</td>\n",
       "    </tr>\n",
       "    <tr>\n",
       "      <th>4</th>\n",
       "      <td>000106b_</td>\n",
       "      <td>5</td>\n",
       "      <td>YES</td>\n",
       "      <td>NO</td>\n",
       "      <td>NO</td>\n",
       "      <td>NO</td>\n",
       "      <td>NO</td>\n",
       "      <td>YES</td>\n",
       "      <td>NO</td>\n",
       "      <td>NO</td>\n",
       "      <td>NO</td>\n",
       "      <td>YES</td>\n",
       "      <td>NO</td>\n",
       "      <td>NO</td>\n",
       "      <td>F</td>\n",
       "      <td>2</td>\n",
       "      <td>F_M</td>\n",
       "    </tr>\n",
       "  </tbody>\n",
       "</table>\n",
       "</div>"
      ],
      "text/plain": [
       "  choral_ID  event_number pitch_1 pitch_2 pitch_3 pitch_4 pitch_5 pitch_6  \\\n",
       "0  000106b_             1     YES      NO      NO      NO      NO     YES   \n",
       "1  000106b_             2     YES      NO      NO      NO     YES      NO   \n",
       "2  000106b_             3     YES      NO      NO      NO     YES      NO   \n",
       "3  000106b_             4     YES      NO      NO      NO      NO     YES   \n",
       "4  000106b_             5     YES      NO      NO      NO      NO     YES   \n",
       "\n",
       "  pitch_7 pitch_8 pitch_9 pitch_10 pitch_11 pitch_12 bass  meter chord_label  \n",
       "0      NO      NO      NO      YES       NO       NO    F      3         F_M  \n",
       "1      NO     YES      NO       NO       NO       NO    E      5         C_M  \n",
       "2      NO     YES      NO       NO       NO       NO    E      2         C_M  \n",
       "3      NO      NO      NO      YES       NO       NO    F      3         F_M  \n",
       "4      NO      NO      NO      YES       NO       NO    F      2         F_M  "
      ]
     },
     "execution_count": 16,
     "metadata": {},
     "output_type": "execute_result"
    }
   ],
   "source": [
    "df = pd.read_csv('bach_choral_set_dataset.csv')\n",
    "df.head()"
   ]
  },
  {
   "cell_type": "markdown",
   "metadata": {},
   "source": [
    "We will first train a markov model using the first choral in the dataset, `000106b_`. "
   ]
  },
  {
   "cell_type": "code",
   "execution_count": 17,
   "metadata": {},
   "outputs": [],
   "source": [
    "bigrams={}\n",
    "grouped = df.groupby(df.choral_ID)\n",
    "chords = grouped.get_group('000106b_')['chord_label'].values\n",
    "ngrams = (zip(*[chords[i:] for i in range(2)]))\n",
    "bigrams['chords'] = [\" \".join(ngram) for ngram in ngrams]\n",
    "\n",
    "bass = grouped.get_group('000106b_')['bass'].values\n",
    "ngrams = (zip(*[bass[i:] for i in range(2)]))\n",
    "bigrams['bass'] = [\" \".join(ngram) for ngram in ngrams]\n",
    "\n",
    "meter = grouped.get_group('000106b_')['meter'].values.astype(str)\n",
    "ngrams = (zip(*[meter[i:] for i in range(2)]))\n",
    "bigrams['meter'] = [\" \".join(ngram) for ngram in ngrams]"
   ]
  },
  {
   "cell_type": "code",
   "execution_count": 20,
   "metadata": {},
   "outputs": [
    {
     "name": "stdout",
     "output_type": "stream",
     "text": [
      "['F_M', 'C_M', 'C_M', 'C_M', 'C_M', 'C_M', 'C_M', 'C_M', 'D_m7', 'D_m7', 'D_m7', 'D_m7', 'D_m7', 'D_m7', 'D_m7', 'D_m7', 'D_m7', 'D_m7', 'G_M', 'C_M', 'C_M', 'F_M', 'G_m', 'D_m', 'F_M', 'F_M', 'C_M', 'F_M', 'D_m', 'D_m']\n",
      "['D', 'F', 'F', 'E', 'E', 'F', 'F', 'G', 'A', 'A', 'A', 'D', 'E', 'E', 'F', 'F', 'Bb', 'C', 'C', 'C', 'D', 'D', 'E', 'E', 'E', 'F', 'F', 'F', 'F', 'E']\n",
      "['2', '1', '2', '3', '2', '4', '2', '3', '2', '1', '4', '2', '1', '4', '2', '1', '3', '5', '2', '1', '2', '3', '2', '3', '1', '2', '1', '3', '2', '3']\n"
     ]
    }
   ],
   "source": [
    "def predict_next_state(chord, bigrams):\n",
    "    \"\"\"Predict next chord based on current state.\"\"\"\n",
    "    # create list of bigrams starting with current chord\n",
    "    bigrams_with_current_chord = [bigram for bigram in bigrams if bigram.split(' ')[0]==chord]\n",
    "    \n",
    "    # count appearance of each bigram\n",
    "    count_appearance = dict(Counter(bigrams_with_current_chord))\n",
    "    \n",
    "    # convert apperance into probabilities\n",
    "    for ngram in count_appearance.keys():\n",
    "        count_appearance[ngram] = count_appearance[ngram]/len(bigrams_with_current_chord)\n",
    "        \n",
    "    # create list of possible options for the next chord\n",
    "    options = [key.split(' ')[1] for key in count_appearance.keys()]\n",
    "    # create  list of probability distribution\n",
    "    probabilities = list(count_appearance.values())\n",
    "    # return random prediction\n",
    "    return np.random.choice(options, p=probabilities)\n",
    "\n",
    "def generate_sequence(chord, data, length:int=30):\n",
    "    \"\"\"Generate sequence of defined length.\"\"\"\n",
    "    # create list to store future chords\n",
    "    chords = []\n",
    "    for n in range(length):\n",
    "        # append next chord for the list\n",
    "        chords.append(predict_next_state(chord, data))\n",
    "        # use last chord in sequence to predict next chord\n",
    "        chord = chords[-1]\n",
    "    return chords\n",
    "\n",
    "chords = generate_sequence('F_M', bigrams['chords'])\n",
    "bass = generate_sequence('F', bigrams['bass'])\n",
    "meter = generate_sequence('3', bigrams['meter'])\n",
    "\n",
    "print(chords)\n",
    "print(bass)\n",
    "print(meter)"
   ]
  },
  {
   "cell_type": "code",
   "execution_count": 21,
   "metadata": {},
   "outputs": [
    {
     "data": {
      "text/plain": [
       "[['pitch_1', 'pitch_6', 'pitch_10'],\n",
       " ['pitch_1', 'pitch_5', 'pitch_8'],\n",
       " ['pitch_1', 'pitch_5', 'pitch_8'],\n",
       " ['pitch_1', 'pitch_5', 'pitch_8'],\n",
       " ['pitch_1', 'pitch_5', 'pitch_8']]"
      ]
     },
     "execution_count": 21,
     "metadata": {},
     "output_type": "execute_result"
    }
   ],
   "source": [
    "# Takes in a list of the pitch values from 1-12 and returns the converted MIDI note numbers\n",
    "def get_midi_notes(pitch_values):\n",
    "    a = []\n",
    "    for i in pitch_values:\n",
    "        a.append(midi_note_converter[i])\n",
    "    return a\n",
    "\n",
    "# Convert the pitch values to their midi note numbers\n",
    "#for i in pitch_values:\n",
    "#    pitch_values[i] = get_midi_notes(pitch_values[i])\n",
    "\n",
    "# Sanity check to see if the generated chord sequence (and pitch values) were properly converted\n",
    "def midi_numbers_list(chord_sequence):\n",
    "    a = []\n",
    "    for i in chord_sequence:\n",
    "        a.append(pitch_values[i])\n",
    "    return a\n",
    "\n",
    "midi_numbers_final = midi_numbers_list(chords)\n",
    "midi_numbers_final[:5]"
   ]
  },
  {
   "cell_type": "code",
   "execution_count": 22,
   "metadata": {},
   "outputs": [],
   "source": [
    "# starting with C3\n",
    "lower_octave_bass_converter = {'C': 48, \n",
    "                            'C#': 49,\n",
    "                            'D': 50,\n",
    "                            'D#': 51,\n",
    "                            'Eb': 51,\n",
    "                            'E': 52,\n",
    "                            'F': 53,\n",
    "                            'F#': 54,\n",
    "                            'G': 55,\n",
    "                            'G#': 56,\n",
    "                            'A': 57,\n",
    "                            'Bb': 58,\n",
    "                            'B': 59                     \n",
    "}"
   ]
  },
  {
   "cell_type": "code",
   "execution_count": 23,
   "metadata": {},
   "outputs": [
    {
     "ename": "StreamException",
     "evalue": "failed to find TimeSignature in meterStream; cannot process Measures",
     "output_type": "error",
     "traceback": [
      "\u001b[0;31m---------------------------------------------------------------------------\u001b[0m",
      "\u001b[0;31mStreamException\u001b[0m                           Traceback (most recent call last)",
      "\u001b[0;32m/var/folders/y2/dtt9lk8570x2x827fql03t540000gn/T/ipykernel_9353/923024534.py\u001b[0m in \u001b[0;36m<module>\u001b[0;34m\u001b[0m\n\u001b[1;32m     29\u001b[0m \u001b[0mmf\u001b[0m\u001b[0;34m.\u001b[0m\u001b[0mread\u001b[0m\u001b[0;34m(\u001b[0m\u001b[0;34m)\u001b[0m\u001b[0;34m\u001b[0m\u001b[0;34m\u001b[0m\u001b[0m\n\u001b[1;32m     30\u001b[0m \u001b[0mmf\u001b[0m\u001b[0;34m.\u001b[0m\u001b[0mclose\u001b[0m\u001b[0;34m(\u001b[0m\u001b[0;34m)\u001b[0m\u001b[0;34m\u001b[0m\u001b[0;34m\u001b[0m\u001b[0m\n\u001b[0;32m---> 31\u001b[0;31m \u001b[0ms\u001b[0m \u001b[0;34m=\u001b[0m \u001b[0mmidi\u001b[0m\u001b[0;34m.\u001b[0m\u001b[0mtranslate\u001b[0m\u001b[0;34m.\u001b[0m\u001b[0mmidiFileToStream\u001b[0m\u001b[0;34m(\u001b[0m\u001b[0mmf\u001b[0m\u001b[0;34m)\u001b[0m\u001b[0;34m\u001b[0m\u001b[0;34m\u001b[0m\u001b[0m\n\u001b[0m\u001b[1;32m     32\u001b[0m \u001b[0ms\u001b[0m\u001b[0;34m.\u001b[0m\u001b[0mshow\u001b[0m\u001b[0;34m(\u001b[0m\u001b[0;34m'midi'\u001b[0m\u001b[0;34m)\u001b[0m\u001b[0;34m\u001b[0m\u001b[0;34m\u001b[0m\u001b[0m\n",
      "\u001b[0;32m~/opt/anaconda3/envs/music30/lib/python3.9/site-packages/music21/midi/translate.py\u001b[0m in \u001b[0;36mmidiFileToStream\u001b[0;34m(mf, inputM21, quantizePost, **keywords)\u001b[0m\n\u001b[1;32m   2771\u001b[0m     \u001b[0;31m# create a stream for each tracks\u001b[0m\u001b[0;34m\u001b[0m\u001b[0;34m\u001b[0m\u001b[0m\n\u001b[1;32m   2772\u001b[0m     \u001b[0;31m# may need to check if tracks actually have event data\u001b[0m\u001b[0;34m\u001b[0m\u001b[0;34m\u001b[0m\u001b[0m\n\u001b[0;32m-> 2773\u001b[0;31m     midiTracksToStreams(mf.tracks,\n\u001b[0m\u001b[1;32m   2774\u001b[0m                         \u001b[0mticksPerQuarter\u001b[0m\u001b[0;34m=\u001b[0m\u001b[0mmf\u001b[0m\u001b[0;34m.\u001b[0m\u001b[0mticksPerQuarterNote\u001b[0m\u001b[0;34m,\u001b[0m\u001b[0;34m\u001b[0m\u001b[0;34m\u001b[0m\u001b[0m\n\u001b[1;32m   2775\u001b[0m                         \u001b[0mquantizePost\u001b[0m\u001b[0;34m=\u001b[0m\u001b[0mquantizePost\u001b[0m\u001b[0;34m,\u001b[0m\u001b[0;34m\u001b[0m\u001b[0;34m\u001b[0m\u001b[0m\n",
      "\u001b[0;32m~/opt/anaconda3/envs/music30/lib/python3.9/site-packages/music21/midi/translate.py\u001b[0m in \u001b[0;36mmidiTracksToStreams\u001b[0;34m(midiTracks, ticksPerQuarter, quantizePost, inputM21, **keywords)\u001b[0m\n\u001b[1;32m   2511\u001b[0m             \u001b[0mstreamPart\u001b[0m \u001b[0;34m=\u001b[0m \u001b[0mconductorPart\u001b[0m\u001b[0;34m\u001b[0m\u001b[0;34m\u001b[0m\u001b[0m\n\u001b[1;32m   2512\u001b[0m \u001b[0;34m\u001b[0m\u001b[0m\n\u001b[0;32m-> 2513\u001b[0;31m         midiTrackToStream(mt,\n\u001b[0m\u001b[1;32m   2514\u001b[0m                           \u001b[0mticksPerQuarter\u001b[0m\u001b[0;34m,\u001b[0m\u001b[0;34m\u001b[0m\u001b[0;34m\u001b[0m\u001b[0m\n\u001b[1;32m   2515\u001b[0m                           \u001b[0mquantizePost\u001b[0m\u001b[0;34m,\u001b[0m\u001b[0;34m\u001b[0m\u001b[0;34m\u001b[0m\u001b[0m\n",
      "\u001b[0;32m~/opt/anaconda3/envs/music30/lib/python3.9/site-packages/music21/midi/translate.py\u001b[0m in \u001b[0;36mmidiTrackToStream\u001b[0;34m(mt, ticksPerQuarter, quantizePost, inputM21, conductorPart, isFirst, **keywords)\u001b[0m\n\u001b[1;32m   1994\u001b[0m \u001b[0;34m\u001b[0m\u001b[0m\n\u001b[1;32m   1995\u001b[0m     \u001b[0;31m# Only make measures once time signatures have been inserted\u001b[0m\u001b[0;34m\u001b[0m\u001b[0;34m\u001b[0m\u001b[0m\n\u001b[0;32m-> 1996\u001b[0;31m     s.makeMeasures(\n\u001b[0m\u001b[1;32m   1997\u001b[0m         \u001b[0mmeterStream\u001b[0m\u001b[0;34m=\u001b[0m\u001b[0mconductorPart\u001b[0m\u001b[0;34m[\u001b[0m\u001b[0;34m'TimeSignature'\u001b[0m\u001b[0;34m]\u001b[0m\u001b[0;34m.\u001b[0m\u001b[0mstream\u001b[0m\u001b[0;34m(\u001b[0m\u001b[0;34m)\u001b[0m \u001b[0;32mif\u001b[0m \u001b[0mconductorPart\u001b[0m \u001b[0;32melse\u001b[0m \u001b[0;32mNone\u001b[0m\u001b[0;34m,\u001b[0m\u001b[0;34m\u001b[0m\u001b[0;34m\u001b[0m\u001b[0m\n\u001b[1;32m   1998\u001b[0m         inPlace=True)\n",
      "\u001b[0;32m~/opt/anaconda3/envs/music30/lib/python3.9/site-packages/music21/stream/base.py\u001b[0m in \u001b[0;36mmakeMeasures\u001b[0;34m(self, meterStream, refStreamOrTimeRange, searchContext, innerBarline, finalBarline, bestClef, inPlace)\u001b[0m\n\u001b[1;32m   6475\u001b[0m         \u001b[0mFor\u001b[0m \u001b[0mmore\u001b[0m \u001b[0mdetails\u001b[0m\u001b[0;34m,\u001b[0m \u001b[0msee\u001b[0m \u001b[0;34m:\u001b[0m\u001b[0mpy\u001b[0m\u001b[0;34m:\u001b[0m\u001b[0mfunc\u001b[0m\u001b[0;34m:\u001b[0m\u001b[0;31m`\u001b[0m\u001b[0;34m~\u001b[0m\u001b[0mmusic21\u001b[0m\u001b[0;34m.\u001b[0m\u001b[0mstream\u001b[0m\u001b[0;34m.\u001b[0m\u001b[0mmakeNotation\u001b[0m\u001b[0;34m.\u001b[0m\u001b[0mmakeMeasures\u001b[0m\u001b[0;31m`\u001b[0m\u001b[0;34m.\u001b[0m\u001b[0;34m\u001b[0m\u001b[0;34m\u001b[0m\u001b[0m\n\u001b[1;32m   6476\u001b[0m         '''\n\u001b[0;32m-> 6477\u001b[0;31m         return makeNotation.makeMeasures(\n\u001b[0m\u001b[1;32m   6478\u001b[0m             \u001b[0mself\u001b[0m\u001b[0;34m,\u001b[0m\u001b[0;34m\u001b[0m\u001b[0;34m\u001b[0m\u001b[0m\n\u001b[1;32m   6479\u001b[0m             \u001b[0mmeterStream\u001b[0m\u001b[0;34m=\u001b[0m\u001b[0mmeterStream\u001b[0m\u001b[0;34m,\u001b[0m\u001b[0;34m\u001b[0m\u001b[0;34m\u001b[0m\u001b[0m\n",
      "\u001b[0;32m~/opt/anaconda3/envs/music30/lib/python3.9/site-packages/music21/stream/makeNotation.py\u001b[0m in \u001b[0;36mmakeMeasures\u001b[0;34m(s, meterStream, refStreamOrTimeRange, searchContext, innerBarline, finalBarline, bestClef, inPlace)\u001b[0m\n\u001b[1;32m    542\u001b[0m \u001b[0;34m\u001b[0m\u001b[0m\n\u001b[1;32m    543\u001b[0m         \u001b[0;32mif\u001b[0m \u001b[0mthisTimeSignature\u001b[0m \u001b[0;32mis\u001b[0m \u001b[0;32mNone\u001b[0m \u001b[0;32mand\u001b[0m \u001b[0mlastTimeSignature\u001b[0m \u001b[0;32mis\u001b[0m \u001b[0;32mNone\u001b[0m\u001b[0;34m:\u001b[0m\u001b[0;34m\u001b[0m\u001b[0;34m\u001b[0m\u001b[0m\n\u001b[0;32m--> 544\u001b[0;31m             raise stream.StreamException(\n\u001b[0m\u001b[1;32m    545\u001b[0m                 \u001b[0;34m'failed to find TimeSignature in meterStream; '\u001b[0m\u001b[0;34m\u001b[0m\u001b[0;34m\u001b[0m\u001b[0m\n\u001b[1;32m    546\u001b[0m                 + 'cannot process Measures')\n",
      "\u001b[0;31mStreamException\u001b[0m: failed to find TimeSignature in meterStream; cannot process Measures"
     ]
    }
   ],
   "source": [
    "track = 0\n",
    "channel = 0\n",
    "time = 0 \n",
    "duration = 1\n",
    "tempo = 60\n",
    "volume = 100\n",
    "\n",
    "MIDI = MIDIFile(1)\n",
    "MIDI.addTempo(track, time, tempo)\n",
    "\n",
    "t = 0\n",
    "for i in range(len(midi_numbers_final)):\n",
    "    chord_sequence = midi_numbers_final[i]\n",
    "    duration = int(meter[i])\n",
    "    \n",
    "    for c in chord_sequence:\n",
    "        note = midi_note_converter[c]\n",
    "        MIDI.addNote(track, channel, note, t, duration, volume)\n",
    "        \n",
    "    bass_note = bass[i]\n",
    "    MIDI.addNote(track, channel, lower_octave_bass_converter[bass_note], t, duration, volume)\n",
    "    t += duration\n",
    "    \n",
    "with open(\"generated_000106b_.mid\", 'wb') as output_file:\n",
    "    MIDI.writeFile(output_file)\n",
    "    \n",
    "mf = midi.MidiFile()\n",
    "mf.open('generated_000106b_.mid')\n",
    "mf.read()\n",
    "mf.close()\n",
    "s = midi.translate.midiFileToStream(mf)\n",
    "s.show('midi')"
   ]
  },
  {
   "cell_type": "markdown",
   "metadata": {},
   "source": [
    "------\n",
    "\n",
    "Now, we'll train on the entire dataset of chorales, rather than just one."
   ]
  },
  {
   "cell_type": "code",
   "execution_count": 25,
   "metadata": {},
   "outputs": [
    {
     "name": "stdout",
     "output_type": "stream",
     "text": [
      "8\n",
      "8\n",
      "8\n"
     ]
    }
   ],
   "source": [
    "chord = markov.Chain(NPREF=4)\n",
    "meter = markov.Chain(NPREF=4)\n",
    "bass = markov.Chain(NPREF=4)\n",
    "\n",
    "# training on all unique chorales\n",
    "for chorale in df['choral_ID'].unique():\n",
    "    d = df[df['choral_ID'] == chorale]\n",
    "    chord.build(d['chord_label'])\n",
    "\n",
    "    bass.build(d['bass'])\n",
    "\n",
    "    chorale_meter_str = np.array(d['meter'], dtype='str')\n",
    "    meter.build(chorale_meter_str)\n",
    "    \n",
    "generated_chords = chord.generate(16)\n",
    "print(len(generated_chords))\n",
    "generated_bass = bass.generate(16)\n",
    "print(len(generated_bass))\n",
    "generated_meter = meter.generate(16)\n",
    "print(len(generated_meter))"
   ]
  },
  {
   "cell_type": "code",
   "execution_count": 26,
   "metadata": {},
   "outputs": [
    {
     "ename": "KeyError",
     "evalue": "'N'",
     "output_type": "error",
     "traceback": [
      "\u001b[0;31m---------------------------------------------------------------------------\u001b[0m",
      "\u001b[0;31mKeyError\u001b[0m                                  Traceback (most recent call last)",
      "\u001b[0;32m/var/folders/y2/dtt9lk8570x2x827fql03t540000gn/T/ipykernel_4756/2457425935.py\u001b[0m in \u001b[0;36m<module>\u001b[0;34m\u001b[0m\n\u001b[1;32m     17\u001b[0m     \u001b[0;32mreturn\u001b[0m \u001b[0ma\u001b[0m\u001b[0;34m\u001b[0m\u001b[0;34m\u001b[0m\u001b[0m\n\u001b[1;32m     18\u001b[0m \u001b[0;34m\u001b[0m\u001b[0m\n\u001b[0;32m---> 19\u001b[0;31m \u001b[0mmidi_numbers_final\u001b[0m \u001b[0;34m=\u001b[0m \u001b[0mmidi_numbers_list\u001b[0m\u001b[0;34m(\u001b[0m\u001b[0mgenerated_chords\u001b[0m\u001b[0;34m)\u001b[0m\u001b[0;34m\u001b[0m\u001b[0;34m\u001b[0m\u001b[0m\n\u001b[0m\u001b[1;32m     20\u001b[0m \u001b[0mmidi_numbers_final\u001b[0m\u001b[0;34m[\u001b[0m\u001b[0;34m:\u001b[0m\u001b[0;36m5\u001b[0m\u001b[0;34m]\u001b[0m\u001b[0;34m\u001b[0m\u001b[0;34m\u001b[0m\u001b[0m\n\u001b[1;32m     21\u001b[0m \u001b[0mprint\u001b[0m\u001b[0;34m(\u001b[0m\u001b[0mlen\u001b[0m\u001b[0;34m(\u001b[0m\u001b[0mmidi_numbers_final\u001b[0m\u001b[0;34m)\u001b[0m\u001b[0;34m)\u001b[0m\u001b[0;34m\u001b[0m\u001b[0;34m\u001b[0m\u001b[0m\n",
      "\u001b[0;32m/var/folders/y2/dtt9lk8570x2x827fql03t540000gn/T/ipykernel_4756/2457425935.py\u001b[0m in \u001b[0;36mmidi_numbers_list\u001b[0;34m(chord_sequence)\u001b[0m\n\u001b[1;32m     14\u001b[0m     \u001b[0ma\u001b[0m \u001b[0;34m=\u001b[0m \u001b[0;34m[\u001b[0m\u001b[0;34m]\u001b[0m\u001b[0;34m\u001b[0m\u001b[0;34m\u001b[0m\u001b[0m\n\u001b[1;32m     15\u001b[0m     \u001b[0;32mfor\u001b[0m \u001b[0mi\u001b[0m \u001b[0;32min\u001b[0m \u001b[0mchord_sequence\u001b[0m\u001b[0;34m:\u001b[0m\u001b[0;34m\u001b[0m\u001b[0;34m\u001b[0m\u001b[0m\n\u001b[0;32m---> 16\u001b[0;31m         \u001b[0ma\u001b[0m\u001b[0;34m.\u001b[0m\u001b[0mappend\u001b[0m\u001b[0;34m(\u001b[0m\u001b[0mpitch_values\u001b[0m\u001b[0;34m[\u001b[0m\u001b[0mi\u001b[0m\u001b[0;34m]\u001b[0m\u001b[0;34m)\u001b[0m\u001b[0;34m\u001b[0m\u001b[0;34m\u001b[0m\u001b[0m\n\u001b[0m\u001b[1;32m     17\u001b[0m     \u001b[0;32mreturn\u001b[0m \u001b[0ma\u001b[0m\u001b[0;34m\u001b[0m\u001b[0;34m\u001b[0m\u001b[0m\n\u001b[1;32m     18\u001b[0m \u001b[0;34m\u001b[0m\u001b[0m\n",
      "\u001b[0;31mKeyError\u001b[0m: 'N'"
     ]
    }
   ],
   "source": [
    "# Takes in a list of the pitch values from 1-12 and returns the converted MIDI note numbers\n",
    "def get_midi_notes(pitch_values):\n",
    "    a = []\n",
    "    for i in pitch_values:\n",
    "        a.append(midi_note_converter[i])\n",
    "    return a\n",
    "\n",
    "# Convert the pitch values to their midi note numbers\n",
    "#for i in pitch_values:\n",
    "#    pitch_values[i] = get_midi_notes(pitch_values[i])\n",
    "\n",
    "# Sanity check to see if the generated chord sequence (and pitch values) were properly converted\n",
    "def midi_numbers_list(chord_sequence):\n",
    "    a = []\n",
    "    for i in chord_sequence:\n",
    "        a.append(pitch_values[i])\n",
    "    return a\n",
    "\n",
    "midi_numbers_final = midi_numbers_list(generated_chords)\n",
    "midi_numbers_final[:5]\n",
    "print(len(midi_numbers_final))"
   ]
  },
  {
   "cell_type": "code",
   "execution_count": 27,
   "metadata": {},
   "outputs": [
    {
     "ename": "ValueError",
     "evalue": "invalid literal for int() with base 10: 'N'",
     "output_type": "error",
     "traceback": [
      "\u001b[0;31m---------------------------------------------------------------------------\u001b[0m",
      "\u001b[0;31mValueError\u001b[0m                                Traceback (most recent call last)",
      "\u001b[0;32m/var/folders/y2/dtt9lk8570x2x827fql03t540000gn/T/ipykernel_4756/1323819573.py\u001b[0m in \u001b[0;36m<module>\u001b[0;34m\u001b[0m\n\u001b[1;32m     12\u001b[0m \u001b[0;32mfor\u001b[0m \u001b[0mi\u001b[0m \u001b[0;32min\u001b[0m \u001b[0mrange\u001b[0m\u001b[0;34m(\u001b[0m\u001b[0mlen\u001b[0m\u001b[0;34m(\u001b[0m\u001b[0mmidi_numbers_final\u001b[0m\u001b[0;34m)\u001b[0m\u001b[0;34m)\u001b[0m\u001b[0;34m:\u001b[0m\u001b[0;34m\u001b[0m\u001b[0;34m\u001b[0m\u001b[0m\n\u001b[1;32m     13\u001b[0m     \u001b[0mchord_sequence\u001b[0m \u001b[0;34m=\u001b[0m \u001b[0mmidi_numbers_final\u001b[0m\u001b[0;34m[\u001b[0m\u001b[0mi\u001b[0m\u001b[0;34m]\u001b[0m\u001b[0;34m\u001b[0m\u001b[0;34m\u001b[0m\u001b[0m\n\u001b[0;32m---> 14\u001b[0;31m     \u001b[0mduration\u001b[0m \u001b[0;34m=\u001b[0m \u001b[0mint\u001b[0m\u001b[0;34m(\u001b[0m\u001b[0mgenerated_meter\u001b[0m\u001b[0;34m[\u001b[0m\u001b[0mi\u001b[0m\u001b[0;34m]\u001b[0m\u001b[0;34m)\u001b[0m\u001b[0;34m\u001b[0m\u001b[0;34m\u001b[0m\u001b[0m\n\u001b[0m\u001b[1;32m     15\u001b[0m \u001b[0;34m\u001b[0m\u001b[0m\n\u001b[1;32m     16\u001b[0m     \u001b[0;32mfor\u001b[0m \u001b[0mc\u001b[0m \u001b[0;32min\u001b[0m \u001b[0mchord_sequence\u001b[0m\u001b[0;34m:\u001b[0m\u001b[0;34m\u001b[0m\u001b[0;34m\u001b[0m\u001b[0m\n",
      "\u001b[0;31mValueError\u001b[0m: invalid literal for int() with base 10: 'N'"
     ]
    }
   ],
   "source": [
    "track = 0\n",
    "channel = 0\n",
    "time = 0 \n",
    "duration = 1\n",
    "tempo = 60\n",
    "volume = 100\n",
    "\n",
    "MIDI = MIDIFile(2)\n",
    "MIDI.addTempo(track, time, tempo)\n",
    "\n",
    "t = 0\n",
    "for i in range(len(midi_numbers_final)):\n",
    "    chord_sequence = midi_numbers_final[i]\n",
    "    duration = int(generated_meter[i])\n",
    "    \n",
    "    for c in chord_sequence:\n",
    "        note = midi_note_converter[c]\n",
    "        MIDI.addNote(track, channel, note, t, duration, volume)\n",
    "        \n",
    "    bass_note = generated_bass[i]\n",
    "    MIDI.addNote(track, channel, lower_octave_bass_converter[bass_note], t, duration, volume)\n",
    "\n",
    "    t += duration\n",
    "    \n",
    "with open(\"generated_all_midi.mid\", 'wb') as output_file:\n",
    "    MIDI.writeFile(output_file)\n",
    "    \n",
    "mf = midi.MidiFile()\n",
    "mf.open('generated_all_midi.mid')\n",
    "mf.read()\n",
    "mf.close()\n",
    "s = midi.translate.midiFileToStream(mf)\n",
    "s.show('midi')"
   ]
  },
  {
   "cell_type": "markdown",
   "metadata": {},
   "source": [
    "-----\n"
   ]
  }
 ],
 "metadata": {
  "kernelspec": {
   "display_name": "Python 3",
   "language": "python",
   "name": "python3"
  },
  "language_info": {
   "codemirror_mode": {
    "name": "ipython",
    "version": 3
   },
   "file_extension": ".py",
   "mimetype": "text/x-python",
   "name": "python",
   "nbconvert_exporter": "python",
   "pygments_lexer": "ipython3",
   "version": "3.9.7"
  }
 },
 "nbformat": 4,
 "nbformat_minor": 4
}
